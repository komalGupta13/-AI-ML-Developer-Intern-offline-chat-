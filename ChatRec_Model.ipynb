{
 "cells": [
  {
   "cell_type": "code",
   "execution_count": 7,
   "id": "03b54d8a",
   "metadata": {},
   "outputs": [
    {
     "name": "stdout",
     "output_type": "stream",
     "text": [
      "Using device: cpu\n"
     ]
    }
   ],
   "source": [
    "import pandas as pd\n",
    "import numpy as np\n",
    "import torch\n",
    "from torch.utils.data import Dataset, DataLoader\n",
    "from torch.optim import AdamW\n",
    "from transformers import get_linear_schedule_with_warmup\n",
    "\n",
    "\n",
    "from sklearn.model_selection import train_test_split\n",
    "import matplotlib.pyplot as plt\n",
    "from nltk.translate.bleu_score import sentence_bleu, SmoothingFunction\n",
    "from rouge import Rouge\n",
    "import joblib\n",
    "import warnings\n",
    "import re\n",
    "from typing import List, Tuple, Dict\n",
    "warnings.filterwarnings('ignore')\n",
    "\n",
    "# Set random seeds for reproducibility\n",
    "SEED = 42\n",
    "torch.manual_seed(SEED)\n",
    "np.random.seed(SEED)\n",
    "\n",
    "# Device configuration\n",
    "device = torch.device('cuda' if torch.cuda.is_available() else 'cpu')\n",
    "print(f\"Using device: {device}\")"
   ]
  },
  {
   "cell_type": "code",
   "execution_count": 10,
   "id": "cfcddfde",
   "metadata": {},
   "outputs": [
    {
     "name": "stdout",
     "output_type": "stream",
     "text": [
      "Loaded 22 messages\n",
      "Columns: ['Conversation ID', 'Timestamp', 'Sender', 'Message']\n",
      "Created 9 conversation pairs\n"
     ]
    }
   ],
   "source": [
    "def load_conversation_data(file_path: str) -> pd.DataFrame:\n",
    "    \"\"\"Load conversation data from Excel file\"\"\"\n",
    "    df = pd.read_excel(file_path)\n",
    "    print(f\"Loaded {len(df)} messages\")\n",
    "    print(f\"Columns: {df.columns.tolist()}\")\n",
    "    return df\n",
    "\n",
    "def preprocess_text(text: str) -> str:\n",
    "    \"\"\"Clean and normalize text\"\"\"\n",
    "    if pd.isna(text):\n",
    "        return \"\"\n",
    "    text = str(text).strip()\n",
    "    text = re.sub(r'\\s+', ' ', text)\n",
    "    text = text.replace('\"', '')\n",
    "    return text\n",
    "\n",
    "def create_conversation_pairs(df: pd.DataFrame) -> List[Tuple[str, str, str]]:\n",
    "    \"\"\"\n",
    "    Create (conversation_history, user_b_message, user_a_reply) tuples\n",
    "    Groups by Conversation ID and creates context-aware pairs\n",
    "    \"\"\"\n",
    "    pairs = []\n",
    "    \n",
    "    for conv_id in df['Conversation ID'].unique():\n",
    "        conv_df = df[df['Conversation ID'] == conv_id].sort_values('Timestamp')\n",
    "        messages = conv_df.to_dict('records')\n",
    "        \n",
    "        # Build conversation context\n",
    "        history = []\n",
    "        for i, msg in enumerate(messages):\n",
    "            sender = msg['Sender']\n",
    "            message = preprocess_text(msg['Message'])\n",
    "            \n",
    "            if sender == 'User B' and i + 1 < len(messages):\n",
    "                # Check if next message is from User A\n",
    "                if messages[i + 1]['Sender'] == 'User A':\n",
    "                    user_b_msg = message\n",
    "                    user_a_reply = preprocess_text(messages[i + 1]['Message'])\n",
    "                    \n",
    "                    # Create context from history\n",
    "                    context = \" | \".join(history[-5:]) if history else \"\"\n",
    "                    pairs.append((context, user_b_msg, user_a_reply))\n",
    "            \n",
    "            # Add to history\n",
    "            history.append(f\"{sender}: {message}\")\n",
    "    \n",
    "    print(f\"Created {len(pairs)} conversation pairs\")\n",
    "    return pairs\n",
    "\n",
    "# Load data\n",
    "df = load_conversation_data('conversationfile.xlsx')\n",
    "conversation_pairs = create_conversation_pairs(df)"
   ]
  },
  {
   "cell_type": "code",
   "execution_count": 11,
   "id": "e9777f23",
   "metadata": {},
   "outputs": [],
   "source": [
    "class ConversationDataset(Dataset):\n",
    "    \"\"\"Custom Dataset for conversation pairs\"\"\"\n",
    "    \n",
    "    def __init__(self, pairs: List[Tuple[str, str, str]], tokenizer, max_length: int = 256):\n",
    "        self.pairs = pairs\n",
    "        self.tokenizer = tokenizer\n",
    "        self.max_length = max_length\n",
    "        \n",
    "    def __len__(self):\n",
    "        return len(self.pairs)\n",
    "    \n",
    "    def __getitem__(self, idx):\n",
    "        context, user_b_msg, user_a_reply = self.pairs[idx]\n",
    "        \n",
    "        # Format: [Context] User B: {message} | User A: {reply}\n",
    "        if context:\n",
    "            input_text = f\"{context} | User B: {user_b_msg} | User A:\"\n",
    "        else:\n",
    "            input_text = f\"User B: {user_b_msg} | User A:\"\n",
    "        \n",
    "        full_text = f\"{input_text} {user_a_reply}\"\n",
    "        \n",
    "        # Tokenize\n",
    "        encoding = self.tokenizer(\n",
    "            full_text,\n",
    "            max_length=self.max_length,\n",
    "            padding='max_length',\n",
    "            truncation=True,\n",
    "            return_tensors='pt'\n",
    "        )\n",
    "        \n",
    "        input_ids = encoding['input_ids'].squeeze()\n",
    "        attention_mask = encoding['attention_mask'].squeeze()\n",
    "        \n",
    "        # Labels are same as input_ids for language modeling\n",
    "        labels = input_ids.clone()\n",
    "        \n",
    "        return {\n",
    "            'input_ids': input_ids,\n",
    "            'attention_mask': attention_mask,\n",
    "            'labels': labels\n",
    "        }\n"
   ]
  },
  {
   "cell_type": "code",
   "execution_count": 12,
   "id": "674aec7c",
   "metadata": {},
   "outputs": [
    {
     "name": "stdout",
     "output_type": "stream",
     "text": [
      "\n",
      "=== Initializing GPT-2 Model ===\n"
     ]
    },
    {
     "data": {
      "application/vnd.jupyter.widget-view+json": {
       "model_id": "716be30879134e6a88c12d4558a26777",
       "version_major": 2,
       "version_minor": 0
      },
      "text/plain": [
       "tokenizer_config.json:   0%|          | 0.00/26.0 [00:00<?, ?B/s]"
      ]
     },
     "metadata": {},
     "output_type": "display_data"
    },
    {
     "data": {
      "application/vnd.jupyter.widget-view+json": {
       "model_id": "bfd5d4b89dd14a518b3896c58c5d36ed",
       "version_major": 2,
       "version_minor": 0
      },
      "text/plain": [
       "vocab.json:   0%|          | 0.00/1.04M [00:00<?, ?B/s]"
      ]
     },
     "metadata": {},
     "output_type": "display_data"
    },
    {
     "data": {
      "application/vnd.jupyter.widget-view+json": {
       "model_id": "5754baff0ab442a198652af2d41a793d",
       "version_major": 2,
       "version_minor": 0
      },
      "text/plain": [
       "merges.txt:   0%|          | 0.00/456k [00:00<?, ?B/s]"
      ]
     },
     "metadata": {},
     "output_type": "display_data"
    },
    {
     "data": {
      "application/vnd.jupyter.widget-view+json": {
       "model_id": "59c5c6bec9ce4ea786af43b7a6c87710",
       "version_major": 2,
       "version_minor": 0
      },
      "text/plain": [
       "tokenizer.json:   0%|          | 0.00/1.36M [00:00<?, ?B/s]"
      ]
     },
     "metadata": {},
     "output_type": "display_data"
    },
    {
     "data": {
      "application/vnd.jupyter.widget-view+json": {
       "model_id": "ce79390179d54b0abfbe2768d7b05acf",
       "version_major": 2,
       "version_minor": 0
      },
      "text/plain": [
       "config.json:   0%|          | 0.00/665 [00:00<?, ?B/s]"
      ]
     },
     "metadata": {},
     "output_type": "display_data"
    },
    {
     "name": "stderr",
     "output_type": "stream",
     "text": [
      "Xet Storage is enabled for this repo, but the 'hf_xet' package is not installed. Falling back to regular HTTP download. For better performance, install the package with: `pip install huggingface_hub[hf_xet]` or `pip install hf_xet`\n"
     ]
    },
    {
     "data": {
      "application/vnd.jupyter.widget-view+json": {
       "model_id": "f99c556a1ccb42618a1ea0d9684d147e",
       "version_major": 2,
       "version_minor": 0
      },
      "text/plain": [
       "model.safetensors:   0%|          | 0.00/548M [00:00<?, ?B/s]"
      ]
     },
     "metadata": {},
     "output_type": "display_data"
    },
    {
     "data": {
      "application/vnd.jupyter.widget-view+json": {
       "model_id": "0cfd047a74df42048ae64b5ebef8e11e",
       "version_major": 2,
       "version_minor": 0
      },
      "text/plain": [
       "generation_config.json:   0%|          | 0.00/124 [00:00<?, ?B/s]"
      ]
     },
     "metadata": {},
     "output_type": "display_data"
    },
    {
     "name": "stdout",
     "output_type": "stream",
     "text": [
      "Model loaded: gpt2\n",
      "Model parameters: 124.44M\n"
     ]
    }
   ],
   "source": [
    "print(\"\\n=== Initializing GPT-2 Model ===\")\n",
    "model_name = 'gpt2'  # Using GPT-2 small for offline efficiency\n",
    "tokenizer = GPT2Tokenizer.from_pretrained(model_name)\n",
    "model = GPT2LMHeadModel.from_pretrained(model_name)\n",
    "\n",
    "# Add padding token\n",
    "tokenizer.pad_token = tokenizer.eos_token\n",
    "model.config.pad_token_id = tokenizer.eos_token_id\n",
    "\n",
    "model.to(device)\n",
    "print(f\"Model loaded: {model_name}\")\n",
    "print(f\"Model parameters: {sum(p.numel() for p in model.parameters()) / 1e6:.2f}M\")\n"
   ]
  },
  {
   "cell_type": "code",
   "execution_count": 13,
   "id": "5d8eb52b",
   "metadata": {},
   "outputs": [
    {
     "name": "stdout",
     "output_type": "stream",
     "text": [
      "\n",
      "Train pairs: 7\n",
      "Test pairs: 2\n"
     ]
    }
   ],
   "source": [
    "train_pairs, test_pairs = train_test_split(conversation_pairs, test_size=0.2, random_state=SEED)\n",
    "print(f\"\\nTrain pairs: {len(train_pairs)}\")\n",
    "print(f\"Test pairs: {len(test_pairs)}\")\n",
    "\n",
    "# Create datasets\n",
    "train_dataset = ConversationDataset(train_pairs, tokenizer)\n",
    "test_dataset = ConversationDataset(test_pairs, tokenizer)\n",
    "\n",
    "# Create dataloaders\n",
    "BATCH_SIZE = 4\n",
    "train_loader = DataLoader(train_dataset, batch_size=BATCH_SIZE, shuffle=True)\n",
    "test_loader = DataLoader(test_dataset, batch_size=BATCH_SIZE, shuffle=False)\n"
   ]
  },
  {
   "cell_type": "code",
   "execution_count": 14,
   "id": "bc7f40ef",
   "metadata": {},
   "outputs": [],
   "source": [
    "EPOCHS = 5\n",
    "LEARNING_RATE = 5e-5\n",
    "WARMUP_STEPS = 100\n",
    "\n",
    "optimizer = AdamW(model.parameters(), lr=LEARNING_RATE)\n",
    "total_steps = len(train_loader) * EPOCHS\n",
    "scheduler = get_linear_schedule_with_warmup(\n",
    "    optimizer,\n",
    "    num_warmup_steps=WARMUP_STEPS,\n",
    "    num_training_steps=total_steps\n",
    ")"
   ]
  },
  {
   "cell_type": "code",
   "execution_count": 15,
   "id": "ddaa17c8",
   "metadata": {},
   "outputs": [
    {
     "name": "stdout",
     "output_type": "stream",
     "text": [
      "\n",
      "=== Training Started ===\n",
      "\n",
      "Epoch 1/5\n"
     ]
    },
    {
     "name": "stderr",
     "output_type": "stream",
     "text": [
      "`loss_type=None` was set in the config but it is unrecognized. Using the default loss: `ForCausalLMLoss`.\n"
     ]
    },
    {
     "name": "stdout",
     "output_type": "stream",
     "text": [
      "Train Loss: 8.2258 | Val Loss: 9.3447\n",
      "\n",
      "Epoch 2/5\n",
      "Train Loss: 8.1993 | Val Loss: 9.1583\n",
      "\n",
      "Epoch 3/5\n",
      "Train Loss: 7.8799 | Val Loss: 8.7979\n",
      "\n",
      "Epoch 4/5\n",
      "Train Loss: 7.6577 | Val Loss: 8.2073\n",
      "\n",
      "Epoch 5/5\n",
      "Train Loss: 6.9413 | Val Loss: 7.2963\n"
     ]
    }
   ],
   "source": [
    "def train_epoch(model, dataloader, optimizer, scheduler, device):\n",
    "    \"\"\"Train for one epoch\"\"\"\n",
    "    model.train()\n",
    "    total_loss = 0\n",
    "    \n",
    "    for batch_idx, batch in enumerate(dataloader):\n",
    "        input_ids = batch['input_ids'].to(device)\n",
    "        attention_mask = batch['attention_mask'].to(device)\n",
    "        labels = batch['labels'].to(device)\n",
    "        \n",
    "        optimizer.zero_grad()\n",
    "        \n",
    "        outputs = model(\n",
    "            input_ids=input_ids,\n",
    "            attention_mask=attention_mask,\n",
    "            labels=labels\n",
    "        )\n",
    "        \n",
    "        loss = outputs.loss\n",
    "        total_loss += loss.item()\n",
    "        \n",
    "        loss.backward()\n",
    "        torch.nn.utils.clip_grad_norm_(model.parameters(), 1.0)\n",
    "        optimizer.step()\n",
    "        scheduler.step()\n",
    "        \n",
    "        if (batch_idx + 1) % 10 == 0:\n",
    "            print(f\"  Batch {batch_idx + 1}/{len(dataloader)} - Loss: {loss.item():.4f}\")\n",
    "    \n",
    "    return total_loss / len(dataloader)\n",
    "\n",
    "def evaluate(model, dataloader, device):\n",
    "    \"\"\"Evaluate model\"\"\"\n",
    "    model.eval()\n",
    "    total_loss = 0\n",
    "    \n",
    "    with torch.no_grad():\n",
    "        for batch in dataloader:\n",
    "            input_ids = batch['input_ids'].to(device)\n",
    "            attention_mask = batch['attention_mask'].to(device)\n",
    "            labels = batch['labels'].to(device)\n",
    "            \n",
    "            outputs = model(\n",
    "                input_ids=input_ids,\n",
    "                attention_mask=attention_mask,\n",
    "                labels=labels\n",
    "            )\n",
    "            \n",
    "            total_loss += outputs.loss.item()\n",
    "    \n",
    "    return total_loss / len(dataloader)\n",
    "\n",
    "# Training\n",
    "print(\"\\n=== Training Started ===\")\n",
    "train_losses = []\n",
    "val_losses = []\n",
    "\n",
    "for epoch in range(EPOCHS):\n",
    "    print(f\"\\nEpoch {epoch + 1}/{EPOCHS}\")\n",
    "    \n",
    "    train_loss = train_epoch(model, train_loader, optimizer, scheduler, device)\n",
    "    val_loss = evaluate(model, test_loader, device)\n",
    "    \n",
    "    train_losses.append(train_loss)\n",
    "    val_losses.append(val_loss)\n",
    "    \n",
    "    print(f\"Train Loss: {train_loss:.4f} | Val Loss: {val_loss:.4f}\")\n"
   ]
  },
  {
   "cell_type": "code",
   "execution_count": 16,
   "id": "23413eb3",
   "metadata": {},
   "outputs": [],
   "source": [
    "def generate_reply(context: str, user_b_message: str, model, tokenizer, \n",
    "                   max_length: int = 100, temperature: float = 0.8) -> str:\n",
    "    \"\"\"Generate User A's reply given context and User B's message\"\"\"\n",
    "    model.eval()\n",
    "    \n",
    "    # Format input\n",
    "    if context:\n",
    "        input_text = f\"{context} | User B: {user_b_message} | User A:\"\n",
    "    else:\n",
    "        input_text = f\"User B: {user_b_message} | User A:\"\n",
    "    \n",
    "    # Tokenize\n",
    "    input_ids = tokenizer.encode(input_text, return_tensors='pt').to(device)\n",
    "    \n",
    "    # Generate\n",
    "    with torch.no_grad():\n",
    "        output = model.generate(\n",
    "            input_ids,\n",
    "            max_length=input_ids.shape[1] + max_length,\n",
    "            temperature=temperature,\n",
    "            do_sample=True,\n",
    "            top_k=50,\n",
    "            top_p=0.95,\n",
    "            pad_token_id=tokenizer.eos_token_id,\n",
    "            num_return_sequences=1\n",
    "        )\n",
    "    \n",
    "    # Decode\n",
    "    generated_text = tokenizer.decode(output[0], skip_special_tokens=True)\n",
    "    \n",
    "    # Extract only the reply part\n",
    "    if \"| User A:\" in generated_text:\n",
    "        reply = generated_text.split(\"| User A:\")[-1].strip()\n",
    "    else:\n",
    "        reply = generated_text[len(input_text):].strip()\n",
    "    \n",
    "    return reply"
   ]
  },
  {
   "cell_type": "code",
   "execution_count": 17,
   "id": "2f3aa14a",
   "metadata": {},
   "outputs": [
    {
     "name": "stderr",
     "output_type": "stream",
     "text": [
      "The attention mask is not set and cannot be inferred from input because pad token is same as eos token. As a consequence, you may observe unexpected behavior. Please pass your input's `attention_mask` to obtain reliable results.\n"
     ]
    },
    {
     "name": "stdout",
     "output_type": "stream",
     "text": [
      "\n",
      "=== Evaluation on Test Set ===\n",
      "\n",
      "Example 1:\n",
      "User B: Nice! What did you think? I loved the visuals.\n",
      "Actual User A: Visuals were amazing, but the plot was a bit predictable for me.\n",
      "Generated: So much for your love of Sci-fi. | User B: It was awesome.\n",
      "BLEU: 0.0185\n",
      "\n",
      "Example 2:\n",
      "User B: Yeah, that's what I was thinking. It's a big shift from the original brief.\n",
      "Actual User A: I'll start on the revisions. Can you update the project timeline?\n",
      "Generated: Yeah, it's so important that it's clear. It's a very basic message, and it's all about communicating it. | User B: I think the main thing that's changed is that they have more options. That's a really nice change. | User B: I think that's pretty cool. They can add more stuff,\n",
      "BLEU: 0.0035\n",
      "\n",
      "=== Final Metrics ===\n",
      "Average BLEU: 0.0110\n",
      "Average ROUGE-1: 0.0996\n",
      "Average ROUGE-2: 0.0000\n",
      "Average ROUGE-L: 0.0996\n",
      "Perplexity: 1474.88\n"
     ]
    }
   ],
   "source": [
    "def calculate_bleu(reference: str, candidate: str) -> float:\n",
    "    \"\"\"Calculate BLEU score\"\"\"\n",
    "    reference_tokens = reference.split()\n",
    "    candidate_tokens = candidate.split()\n",
    "    smoothing = SmoothingFunction().method1\n",
    "    return sentence_bleu([reference_tokens], candidate_tokens, smoothing_function=smoothing)\n",
    "\n",
    "def calculate_rouge(reference: str, candidate: str) -> Dict[str, float]:\n",
    "    \"\"\"Calculate ROUGE scores\"\"\"\n",
    "    rouge = Rouge()\n",
    "    try:\n",
    "        scores = rouge.get_scores(candidate, reference)[0]\n",
    "        return {\n",
    "            'rouge-1': scores['rouge-1']['f'],\n",
    "            'rouge-2': scores['rouge-2']['f'],\n",
    "            'rouge-l': scores['rouge-l']['f']\n",
    "        }\n",
    "    except:\n",
    "        return {'rouge-1': 0.0, 'rouge-2': 0.0, 'rouge-l': 0.0}\n",
    "\n",
    "def calculate_perplexity(model, dataloader, device) -> float:\n",
    "    \"\"\"Calculate perplexity\"\"\"\n",
    "    model.eval()\n",
    "    total_loss = 0\n",
    "    total_tokens = 0\n",
    "    \n",
    "    with torch.no_grad():\n",
    "        for batch in dataloader:\n",
    "            input_ids = batch['input_ids'].to(device)\n",
    "            attention_mask = batch['attention_mask'].to(device)\n",
    "            labels = batch['labels'].to(device)\n",
    "            \n",
    "            outputs = model(input_ids=input_ids, attention_mask=attention_mask, labels=labels)\n",
    "            total_loss += outputs.loss.item() * input_ids.size(0)\n",
    "            total_tokens += input_ids.size(0)\n",
    "    \n",
    "    avg_loss = total_loss / total_tokens\n",
    "    perplexity = np.exp(avg_loss)\n",
    "    return perplexity\n",
    "\n",
    "# Evaluate on test set\n",
    "print(\"\\n=== Evaluation on Test Set ===\")\n",
    "bleu_scores = []\n",
    "rouge_1_scores = []\n",
    "rouge_2_scores = []\n",
    "rouge_l_scores = []\n",
    "\n",
    "sample_size = min(50, len(test_pairs))\n",
    "for i, (context, user_b_msg, user_a_actual) in enumerate(test_pairs[:sample_size]):\n",
    "    generated_reply = generate_reply(context, user_b_msg, model, tokenizer)\n",
    "    \n",
    "    bleu = calculate_bleu(user_a_actual, generated_reply)\n",
    "    rouge = calculate_rouge(user_a_actual, generated_reply)\n",
    "    \n",
    "    bleu_scores.append(bleu)\n",
    "    rouge_1_scores.append(rouge['rouge-1'])\n",
    "    rouge_2_scores.append(rouge['rouge-2'])\n",
    "    rouge_l_scores.append(rouge['rouge-l'])\n",
    "    \n",
    "    if i < 3:\n",
    "        print(f\"\\nExample {i+1}:\")\n",
    "        print(f\"User B: {user_b_msg}\")\n",
    "        print(f\"Actual User A: {user_a_actual}\")\n",
    "        print(f\"Generated: {generated_reply}\")\n",
    "        print(f\"BLEU: {bleu:.4f}\")\n",
    "\n",
    "perplexity = calculate_perplexity(model, test_loader, device)\n",
    "\n",
    "print(f\"\\n=== Final Metrics ===\")\n",
    "print(f\"Average BLEU: {np.mean(bleu_scores):.4f}\")\n",
    "print(f\"Average ROUGE-1: {np.mean(rouge_1_scores):.4f}\")\n",
    "print(f\"Average ROUGE-2: {np.mean(rouge_2_scores):.4f}\")\n",
    "print(f\"Average ROUGE-L: {np.mean(rouge_l_scores):.4f}\")\n",
    "print(f\"Perplexity: {perplexity:.2f}\")"
   ]
  },
  {
   "cell_type": "code",
   "execution_count": 18,
   "id": "1adac4f6",
   "metadata": {},
   "outputs": [
    {
     "data": {
      "image/png": "[encoded data removed]",
      "text/plain": [
       "<Figure size 1000x500 with 1 Axes>"
      ]
     },
     "metadata": {},
     "output_type": "display_data"
    },
    {
     "data": {
      "image/png": "[encoded data removed]",
      "text/plain": [
       "<Figure size 1000x600 with 1 Axes>"
      ]
     },
     "metadata": {},
     "output_type": "display_data"
    }
   ],
   "source": [
    "plt.figure(figsize=(10, 5))\n",
    "plt.plot(range(1, EPOCHS + 1), train_losses, label='Train Loss', marker='o')\n",
    "plt.plot(range(1, EPOCHS + 1), val_losses, label='Val Loss', marker='s')\n",
    "plt.xlabel('Epoch')\n",
    "plt.ylabel('Loss')\n",
    "plt.title('Training and Validation Loss')\n",
    "plt.legend()\n",
    "plt.grid(True)\n",
    "plt.savefig('training_curves.png', dpi=300, bbox_inches='tight')\n",
    "plt.show()\n",
    "\n",
    "# Plot metrics\n",
    "metrics = ['BLEU', 'ROUGE-1', 'ROUGE-2', 'ROUGE-L']\n",
    "values = [np.mean(bleu_scores), np.mean(rouge_1_scores), \n",
    "          np.mean(rouge_2_scores), np.mean(rouge_l_scores)]\n",
    "\n",
    "plt.figure(figsize=(10, 6))\n",
    "plt.bar(metrics, values, color=['#3498db', '#e74c3c', '#2ecc71', '#f39c12'])\n",
    "plt.ylabel('Score')\n",
    "plt.title('Evaluation Metrics')\n",
    "plt.ylim(0, 1)\n",
    "for i, v in enumerate(values):\n",
    "    plt.text(i, v + 0.02, f'{v:.3f}', ha='center', va='bottom')\n",
    "plt.savefig('evaluation_metrics.png', dpi=300, bbox_inches='tight')\n",
    "plt.show()"
   ]
  },
  {
   "cell_type": "code",
   "execution_count": 19,
   "id": "6a86165d",
   "metadata": {},
   "outputs": [
    {
     "name": "stdout",
     "output_type": "stream",
     "text": [
      "\n",
      "=== Saving Model ===\n",
      "Model saved to Model.joblib\n",
      "Model and tokenizer saved successfully\n"
     ]
    }
   ],
   "source": [
    "print(\"\\n=== Saving Model ===\")\n",
    "\n",
    "# Save using joblib\n",
    "model_artifacts = {\n",
    "    'model_state_dict': model.state_dict(),\n",
    "    'tokenizer': tokenizer,\n",
    "    'config': {\n",
    "        'model_name': model_name,\n",
    "        'max_length': 256,\n",
    "        'epochs': EPOCHS,\n",
    "        'learning_rate': LEARNING_RATE,\n",
    "    },\n",
    "    'metrics': {\n",
    "        'bleu': np.mean(bleu_scores),\n",
    "        'rouge_1': np.mean(rouge_1_scores),\n",
    "        'rouge_2': np.mean(rouge_2_scores),\n",
    "        'rouge_l': np.mean(rouge_l_scores),\n",
    "        'perplexity': perplexity,\n",
    "    }\n",
    "}\n",
    "\n",
    "joblib.dump(model_artifacts, 'Model.joblib')\n",
    "print(\"Model saved to Model.joblib\")\n",
    "\n",
    "# Also save PyTorch model separately\n",
    "torch.save(model.state_dict(), 'gpt2_finetuned.pth')\n",
    "tokenizer.save_pretrained('tokenizer_saved')\n",
    "print(\"Model and tokenizer saved successfully\")\n"
   ]
  },
  {
   "cell_type": "code",
   "execution_count": 20,
   "id": "c159ae34",
   "metadata": {},
   "outputs": [
    {
     "name": "stdout",
     "output_type": "stream",
     "text": [
      "\n",
      "=== Interactive Demo ===\n",
      "Enter 'quit' to exit\n",
      "User A (Predicted): hi | User B: Hi\n",
      "\n",
      "[02/01/2015, 9:22:50 PM] Ian Cheong: well the game is a bit of a mess. I can't really explain that well [02/01/2015, 9:22:52 PM] Ian Cheong: I'm working on a short story. [02/01/2015, 9:23:10 PM] Ian Cheong: I don't know what to say about it. [02/01/2015\n",
      "User A (Predicted): so how do you think of this? | User B: i think that it's\n",
      "User A (Predicted): -------------- I'm just using my password to sign in.\n",
      "\n",
      "User B:  | User\n"
     ]
    },
    {
     "ename": "KeyboardInterrupt",
     "evalue": "Interrupted by user",
     "output_type": "error",
     "traceback": [
      "\u001b[31m---------------------------------------------------------------------------\u001b[39m",
      "\u001b[31mKeyboardInterrupt\u001b[39m                         Traceback (most recent call last)",
      "\u001b[36mCell\u001b[39m\u001b[36m \u001b[39m\u001b[32mIn[20]\u001b[39m\u001b[32m, line 5\u001b[39m\n\u001b[32m      2\u001b[39m \u001b[38;5;28mprint\u001b[39m(\u001b[33m\"\u001b[39m\u001b[33mEnter \u001b[39m\u001b[33m'\u001b[39m\u001b[33mquit\u001b[39m\u001b[33m'\u001b[39m\u001b[33m to exit\u001b[39m\u001b[33m\"\u001b[39m)\n\u001b[32m      4\u001b[39m \u001b[38;5;28;01mwhile\u001b[39;00m \u001b[38;5;28;01mTrue\u001b[39;00m:\n\u001b[32m----> \u001b[39m\u001b[32m5\u001b[39m     user_b_input = \u001b[38;5;28;43minput\u001b[39;49m\u001b[43m(\u001b[49m\u001b[33;43m\"\u001b[39;49m\u001b[38;5;130;43;01m\\n\u001b[39;49;00m\u001b[33;43mUser B: \u001b[39;49m\u001b[33;43m\"\u001b[39;49m\u001b[43m)\u001b[49m\n\u001b[32m      6\u001b[39m     \u001b[38;5;28;01mif\u001b[39;00m user_b_input.lower() == \u001b[33m'\u001b[39m\u001b[33mquit\u001b[39m\u001b[33m'\u001b[39m:\n\u001b[32m      7\u001b[39m         \u001b[38;5;28;01mbreak\u001b[39;00m\n",
      "\u001b[36mFile \u001b[39m\u001b[32mc:\\Users\\sriva\\anaconda3\\envs\\py312\\Lib\\site-packages\\ipykernel\\kernelbase.py:1275\u001b[39m, in \u001b[36mKernel.raw_input\u001b[39m\u001b[34m(self, prompt)\u001b[39m\n\u001b[32m   1273\u001b[39m     msg = \u001b[33m\"\u001b[39m\u001b[33mraw_input was called, but this frontend does not support input requests.\u001b[39m\u001b[33m\"\u001b[39m\n\u001b[32m   1274\u001b[39m     \u001b[38;5;28;01mraise\u001b[39;00m StdinNotImplementedError(msg)\n\u001b[32m-> \u001b[39m\u001b[32m1275\u001b[39m \u001b[38;5;28;01mreturn\u001b[39;00m \u001b[38;5;28;43mself\u001b[39;49m\u001b[43m.\u001b[49m\u001b[43m_input_request\u001b[49m\u001b[43m(\u001b[49m\n\u001b[32m   1276\u001b[39m \u001b[43m    \u001b[49m\u001b[38;5;28;43mstr\u001b[39;49m\u001b[43m(\u001b[49m\u001b[43mprompt\u001b[49m\u001b[43m)\u001b[49m\u001b[43m,\u001b[49m\n\u001b[32m   1277\u001b[39m \u001b[43m    \u001b[49m\u001b[38;5;28;43mself\u001b[39;49m\u001b[43m.\u001b[49m\u001b[43m_parent_ident\u001b[49m\u001b[43m[\u001b[49m\u001b[33;43m\"\u001b[39;49m\u001b[33;43mshell\u001b[39;49m\u001b[33;43m\"\u001b[39;49m\u001b[43m]\u001b[49m\u001b[43m,\u001b[49m\n\u001b[32m   1278\u001b[39m \u001b[43m    \u001b[49m\u001b[38;5;28;43mself\u001b[39;49m\u001b[43m.\u001b[49m\u001b[43mget_parent\u001b[49m\u001b[43m(\u001b[49m\u001b[33;43m\"\u001b[39;49m\u001b[33;43mshell\u001b[39;49m\u001b[33;43m\"\u001b[39;49m\u001b[43m)\u001b[49m\u001b[43m,\u001b[49m\n\u001b[32m   1279\u001b[39m \u001b[43m    \u001b[49m\u001b[43mpassword\u001b[49m\u001b[43m=\u001b[49m\u001b[38;5;28;43;01mFalse\u001b[39;49;00m\u001b[43m,\u001b[49m\n\u001b[32m   1280\u001b[39m \u001b[43m\u001b[49m\u001b[43m)\u001b[49m\n",
      "\u001b[36mFile \u001b[39m\u001b[32mc:\\Users\\sriva\\anaconda3\\envs\\py312\\Lib\\site-packages\\ipykernel\\kernelbase.py:1320\u001b[39m, in \u001b[36mKernel._input_request\u001b[39m\u001b[34m(self, prompt, ident, parent, password)\u001b[39m\n\u001b[32m   1317\u001b[39m \u001b[38;5;28;01mexcept\u001b[39;00m \u001b[38;5;167;01mKeyboardInterrupt\u001b[39;00m:\n\u001b[32m   1318\u001b[39m     \u001b[38;5;66;03m# re-raise KeyboardInterrupt, to truncate traceback\u001b[39;00m\n\u001b[32m   1319\u001b[39m     msg = \u001b[33m\"\u001b[39m\u001b[33mInterrupted by user\u001b[39m\u001b[33m\"\u001b[39m\n\u001b[32m-> \u001b[39m\u001b[32m1320\u001b[39m     \u001b[38;5;28;01mraise\u001b[39;00m \u001b[38;5;167;01mKeyboardInterrupt\u001b[39;00m(msg) \u001b[38;5;28;01mfrom\u001b[39;00m\u001b[38;5;250m \u001b[39m\u001b[38;5;28;01mNone\u001b[39;00m\n\u001b[32m   1321\u001b[39m \u001b[38;5;28;01mexcept\u001b[39;00m \u001b[38;5;167;01mException\u001b[39;00m:\n\u001b[32m   1322\u001b[39m     \u001b[38;5;28mself\u001b[39m.log.warning(\u001b[33m\"\u001b[39m\u001b[33mInvalid Message:\u001b[39m\u001b[33m\"\u001b[39m, exc_info=\u001b[38;5;28;01mTrue\u001b[39;00m)\n",
      "\u001b[31mKeyboardInterrupt\u001b[39m: Interrupted by user"
     ]
    }
   ],
   "source": [
    "print(\"\\n=== Interactive Demo ===\")\n",
    "print(\"Enter 'quit' to exit\")\n",
    "\n",
    "while True:\n",
    "    user_b_input = input(\"\\nUser B: \")\n",
    "    if user_b_input.lower() == 'quit':\n",
    "        break\n",
    "    \n",
    "    context = \"\"  # Can be modified to include conversation history\n",
    "    reply = generate_reply(context, user_b_input, model, tokenizer)\n",
    "    print(f\"User A (Predicted): {reply}\")\n",
    "\n",
    "print(\"\\n=== Training Complete ===\")\n",
    "print(f\"Final Model Performance:\")\n",
    "print(f\"  BLEU: {np.mean(bleu_scores):.4f}\")\n",
    "print(f\"  ROUGE-L: {np.mean(rouge_l_scores):.4f}\")\n",
    "print(f\"  Perplexity: {perplexity:.2f}\")"
   ]
  },
  {
   "cell_type": "code",
   "execution_count": null,
   "id": "ea0022fe",
   "metadata": {},
   "outputs": [],
   "source": []
  }
 ],
 "metadata": {
  "kernelspec": {
   "display_name": "py312",
   "language": "python",
   "name": "python3"
  },
  "language_info": {
   "codemirror_mode": {
    "name": "ipython",
    "version": 3
   },
   "file_extension": ".py",
   "mimetype": "text/x-python",
   "name": "python",
   "nbconvert_exporter": "python",
   "pygments_lexer": "ipython3",
   "version": "3.12.11"
  }
 },
 "nbformat": 4,
 "nbformat_minor": 5
}
